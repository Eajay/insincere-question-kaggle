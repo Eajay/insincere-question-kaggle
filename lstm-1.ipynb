{
 "cells": [
  {
   "cell_type": "code",
   "execution_count": 1,
   "metadata": {
    "_cell_guid": "b1076dfc-b9ad-4769-8c92-a6c4dae69d19",
    "_uuid": "8f2839f25d086af736a60e9eeb907d3b93b6e0e5"
   },
   "outputs": [
    {
     "name": "stdout",
     "output_type": "stream",
     "text": [
      "['embeddings', 'train.csv', 'sample_submission.csv', 'test.csv']\n"
     ]
    }
   ],
   "source": [
    "# This Python 3 environment comes with many helpful analytics libraries installed\n",
    "# It is defined by the kaggle/python docker image: https://github.com/kaggle/docker-python\n",
    "# For example, here's several helpful packages to load in \n",
    "\n",
    "import numpy as np # linear algebra\n",
    "import pandas as pd # data processing, CSV file I/O (e.g. pd.read_csv)\n",
    "\n",
    "# Input data files are available in the \"../input/\" directory.\n",
    "# For example, running this (by clicking run or pressing Shift+Enter) will list the files in the input directory\n",
    "\n",
    "import os\n",
    "print(os.listdir(\"../input\"))\n",
    "\n",
    "# Any results you write to the current directory are saved as output."
   ]
  },
  {
   "cell_type": "code",
   "execution_count": 2,
   "metadata": {
    "_cell_guid": "79c7e3d0-c299-4dcb-8224-4455121ee9b0",
    "_uuid": "d629ff2d2480ee46fbb7e2d37f6b5fab8052498a"
   },
   "outputs": [
    {
     "name": "stderr",
     "output_type": "stream",
     "text": [
      "Using TensorFlow backend.\n"
     ]
    }
   ],
   "source": [
    "import numpy as np\n",
    "import pandas as pd\n",
    "from keras.preprocessing.text import Tokenizer\n",
    "from keras.preprocessing.text import text_to_word_sequence\n",
    "import os\n",
    "from tqdm import tqdm\n",
    "import re\n",
    "from keras.preprocessing.sequence import pad_sequences\n",
    "import tensorflow as tf\n",
    "from datetime import datetime\n",
    "from sklearn.model_selection import StratifiedKFold\n",
    "from sklearn.metrics import f1_score\n",
    "import matplotlib.pyplot as plt\n",
    "from sklearn.metrics import confusion_matrix\n",
    "import itertools\n",
    "\n",
    "\n",
    "tqdm.pandas('desc')\n",
    "\n",
    "\n",
    "\n",
    "#Always seed the randomness of this universe.\n",
    "np.random.seed(6)"
   ]
  },
  {
   "cell_type": "code",
   "execution_count": 3,
   "metadata": {},
   "outputs": [],
   "source": [
    "#Reading csv's\n",
    "train = pd.read_csv('../input/train.csv')\n",
    "test = pd.read_csv('../input/test.csv')"
   ]
  },
  {
   "cell_type": "code",
   "execution_count": 4,
   "metadata": {},
   "outputs": [],
   "source": [
    "# clean the numbers\n",
    "def clean_numbers(x):\n",
    "    x = re.sub('[0-9]{5,}', '#####', x)\n",
    "    x = re.sub('[0-9]{4}', '####', x)\n",
    "    x = re.sub('[0-9]{3}', '###', x)\n",
    "    x = re.sub('[0-9]{2}', '##', x)\n",
    "    return x"
   ]
  },
  {
   "cell_type": "code",
   "execution_count": 5,
   "metadata": {},
   "outputs": [],
   "source": [
    "# clean text, separate the punction\n",
    "puncts = [',', '.', '\"', ':', ')', '(', '-', '!', '?', '|', ';', \"'\", '$', '&', '/', '[', ']', '>', '%', '=', '#', '*', '+', '\\\\', '•',  '~', '@', '£', \n",
    " '·', '_', '{', '}', '©', '^', '®', '`',  '<', '→', '°', '€', '™', '›',  '♥', '←', '×', '§', '″', '′', 'Â', '█', '½', 'à', '…', \n",
    " '“', '★', '”', '–', '●', 'â', '►', '−', '¢', '²', '¬', '░', '¶', '↑', '±', '¿', '▾', '═', '¦', '║', '―', '¥', '▓', '—', '‹', '─', \n",
    " '▒', '：', '¼', '⊕', '▼', '▪', '†', '■', '’', '▀', '¨', '▄', '♫', '☆', 'é', '¯', '♦', '¤', '▲', 'è', '¸', '¾', 'Ã', '⋅', '‘', '∞', \n",
    " '∙', '）', '↓', '、', '│', '（', '»', '，', '♪', '╩', '╚', '³', '・', '╦', '╣', '╔', '╗', '▬', '❤', 'ï', 'Ø', '¹', '≤', '‡', '√', ]\n",
    "\n",
    "def clean_text(x):\n",
    "    x = str(x)\n",
    "    for punct in puncts:\n",
    "        x = x.replace(punct, f' {punct} ')\n",
    "    return x"
   ]
  },
  {
   "cell_type": "code",
   "execution_count": 6,
   "metadata": {},
   "outputs": [],
   "source": [
    "# transfor the words into correct version\n",
    "mispell_dict = {\"ain't\": \"is not\", \"aren't\": \"are not\",\"can't\": \"cannot\", \"'cause\": \"because\", \"could've\": \"could have\", \"couldn't\": \"could not\", \"didn't\": \"did not\",  \"doesn't\": \"does not\", \"don't\": \"do not\", \"hadn't\": \"had not\", \"hasn't\": \"has not\", \"haven't\": \"have not\", \"he'd\": \"he would\",\"he'll\": \"he will\", \"he's\": \"he is\", \"how'd\": \"how did\", \"how'd'y\": \"how do you\", \"how'll\": \"how will\", \"how's\": \"how is\",  \"I'd\": \"I would\", \"I'd've\": \"I would have\", \"I'll\": \"I will\", \"I'll've\": \"I will have\",\"I'm\": \"I am\", \"I've\": \"I have\", \"i'd\": \"i would\", \"i'd've\": \"i would have\", \"i'll\": \"i will\",  \"i'll've\": \"i will have\",\"i'm\": \"i am\", \"i've\": \"i have\", \"isn't\": \"is not\", \"it'd\": \"it would\", \"it'd've\": \"it would have\", \"it'll\": \"it will\", \"it'll've\": \"it will have\",\"it's\": \"it is\", \"let's\": \"let us\", \"ma'am\": \"madam\", \"mayn't\": \"may not\", \"might've\": \"might have\",\"mightn't\": \"might not\",\"mightn't've\": \"might not have\", \"must've\": \"must have\", \"mustn't\": \"must not\", \"mustn't've\": \"must not have\", \"needn't\": \"need not\", \"needn't've\": \"need not have\",\"o'clock\": \"of the clock\", \"oughtn't\": \"ought not\", \"oughtn't've\": \"ought not have\", \"shan't\": \"shall not\", \"sha'n't\": \"shall not\", \"shan't've\": \"shall not have\", \"she'd\": \"she would\", \"she'd've\": \"she would have\", \"she'll\": \"she will\", \"she'll've\": \"she will have\", \"she's\": \"she is\", \"should've\": \"should have\", \"shouldn't\": \"should not\", \"shouldn't've\": \"should not have\", \"so've\": \"so have\",\"so's\": \"so as\", \"this's\": \"this is\",\"that'd\": \"that would\", \"that'd've\": \"that would have\", \"that's\": \"that is\", \"there'd\": \"there would\", \"there'd've\": \"there would have\", \"there's\": \"there is\", \"here's\": \"here is\",\"they'd\": \"they would\", \"they'd've\": \"they would have\", \"they'll\": \"they will\", \"they'll've\": \"they will have\", \"they're\": \"they are\", \"they've\": \"they have\", \"to've\": \"to have\", \"wasn't\": \"was not\", \"we'd\": \"we would\", \"we'd've\": \"we would have\", \"we'll\": \"we will\", \"we'll've\": \"we will have\", \"we're\": \"we are\", \"we've\": \"we have\", \"weren't\": \"were not\", \"what'll\": \"what will\", \"what'll've\": \"what will have\", \"what're\": \"what are\",  \"what's\": \"what is\", \"what've\": \"what have\", \"when's\": \"when is\", \"when've\": \"when have\", \"where'd\": \"where did\", \"where's\": \"where is\", \"where've\": \"where have\", \"who'll\": \"who will\", \"who'll've\": \"who will have\", \"who's\": \"who is\", \"who've\": \"who have\", \"why's\": \"why is\", \"why've\": \"why have\", \"will've\": \"will have\", \"won't\": \"will not\", \"won't've\": \"will not have\", \"would've\": \"would have\", \"wouldn't\": \"would not\", \"wouldn't've\": \"would not have\", \"y'all\": \"you all\", \"y'all'd\": \"you all would\",\"y'all'd've\": \"you all would have\",\"y'all're\": \"you all are\",\"y'all've\": \"you all have\",\"you'd\": \"you would\", \"you'd've\": \"you would have\", \"you'll\": \"you will\", \"you'll've\": \"you will have\", \"you're\": \"you are\", \"you've\": \"you have\", 'colour': 'color', 'centre': 'center', 'favourite': 'favorite', 'travelling': 'traveling', 'counselling': 'counseling', 'theatre': 'theater', 'cancelled': 'canceled', 'labour': 'labor', 'organisation': 'organization', 'wwii': 'world war 2', 'citicise': 'criticize', 'youtu ': 'youtube ', 'Qoura': 'Quora', 'sallary': 'salary', 'Whta': 'What', 'narcisist': 'narcissist', 'howdo': 'how do', 'whatare': 'what are', 'howcan': 'how can', 'howmuch': 'how much', 'howmany': 'how many', 'whydo': 'why do', 'doI': 'do I', 'theBest': 'the best', 'howdoes': 'how does', 'mastrubation': 'masturbation', 'mastrubate': 'masturbate', \"mastrubating\": 'masturbating', 'pennis': 'penis', 'Etherium': 'Ethereum', 'narcissit': 'narcissist', 'bigdata': 'big data', '2k17': '2017', '2k18': '2018', 'qouta': 'quota', 'exboyfriend': 'ex boyfriend', 'airhostess': 'air hostess', \"whst\": 'what', 'watsapp': 'whatsapp', 'demonitisation': 'demonetization', 'demonitization': 'demonetization', 'demonetisation': 'demonetization'}\n",
    "\n",
    "def _get_mispell(mispell_dict):\n",
    "    mispell_re = re.compile('(%s)' % '|'.join(mispell_dict.keys()))\n",
    "    return mispell_dict, mispell_re\n",
    "\n",
    "mispellings, mispellings_re = _get_mispell(mispell_dict)\n",
    "def replace_typical_misspell(text):\n",
    "    def replace(match):\n",
    "        return mispellings[match.group(0)]\n",
    "    return mispellings_re.sub(replace, text)"
   ]
  },
  {
   "cell_type": "code",
   "execution_count": 7,
   "metadata": {},
   "outputs": [
    {
     "name": "stderr",
     "output_type": "stream",
     "text": [
      "100%|██████████| 1306122/1306122 [00:34<00:00, 37429.42it/s]\n",
      "100%|██████████| 375806/375806 [00:09<00:00, 40021.45it/s]\n"
     ]
    }
   ],
   "source": [
    "# Clean spellings\n",
    "train[\"question_text\"] = train[\"question_text\"].progress_apply(lambda x: replace_typical_misspell(x))\n",
    "test[\"question_text\"] = test[\"question_text\"].progress_apply(lambda x: replace_typical_misspell(x))"
   ]
  },
  {
   "cell_type": "code",
   "execution_count": 8,
   "metadata": {},
   "outputs": [
    {
     "name": "stderr",
     "output_type": "stream",
     "text": [
      "100%|██████████| 1306122/1306122 [00:45<00:00, 28409.78it/s]\n",
      "100%|██████████| 375806/375806 [00:15<00:00, 24435.60it/s]\n"
     ]
    }
   ],
   "source": [
    "# Clean the text\n",
    "train[\"question_text\"] = train[\"question_text\"].progress_apply(lambda x: clean_text(x))\n",
    "test[\"question_text\"] = test[\"question_text\"].progress_apply(lambda x: clean_text(x))"
   ]
  },
  {
   "cell_type": "code",
   "execution_count": 9,
   "metadata": {},
   "outputs": [
    {
     "name": "stderr",
     "output_type": "stream",
     "text": [
      "100%|██████████| 1306122/1306122 [00:15<00:00, 84849.20it/s]\n",
      "100%|██████████| 375806/375806 [00:04<00:00, 84959.14it/s]\n"
     ]
    }
   ],
   "source": [
    "# Clean numbers\n",
    "train[\"question_text\"] = train[\"question_text\"].progress_apply(lambda x: clean_numbers(x))\n",
    "test[\"question_text\"] = test[\"question_text\"].progress_apply(lambda x: clean_numbers(x))"
   ]
  },
  {
   "cell_type": "code",
   "execution_count": 10,
   "metadata": {},
   "outputs": [],
   "source": [
    "## fill up the missing values\n",
    "train_X = train[\"question_text\"].fillna(\"_##_\").values\n",
    "test_X = test[\"question_text\"].fillna(\"_##_\").values"
   ]
  },
  {
   "cell_type": "code",
   "execution_count": 11,
   "metadata": {},
   "outputs": [],
   "source": [
    "MAX_WORD_TO_USE = 100000 # how many words to use in training\n",
    "## Tokenize the sentences\n",
    "tokenizer = Tokenizer(num_words=MAX_WORD_TO_USE)\n",
    "tokenizer.fit_on_texts(list(train['question_text']) )\n",
    "train_X = tokenizer.texts_to_sequences(train['question_text'])\n",
    "test_X = tokenizer.texts_to_sequences(test['question_text'])"
   ]
  },
  {
   "cell_type": "code",
   "execution_count": 12,
   "metadata": {},
   "outputs": [
    {
     "name": "stdout",
     "output_type": "stream",
     "text": [
      "[9, 48, 6520, 6990, 160, 57, 5977, 39, 4, 1132, 6, 1, 29]\n"
     ]
    }
   ],
   "source": [
    "print(train_X[0])"
   ]
  },
  {
   "cell_type": "code",
   "execution_count": 13,
   "metadata": {},
   "outputs": [],
   "source": [
    "## Pad the sentences \n",
    "MAX_LEN = 72 # number of time-steps.\n",
    "train_X = pad_sequences(train_X, maxlen=MAX_LEN, truncating = 'post',padding='pre')\n",
    "test_X = pad_sequences(test_X, maxlen=MAX_LEN, truncating = 'post',padding='pre')"
   ]
  },
  {
   "cell_type": "code",
   "execution_count": 14,
   "metadata": {},
   "outputs": [
    {
     "name": "stdout",
     "output_type": "stream",
     "text": [
      "[   0    0    0    0    0    0    0    0    0    0    0    0    0    0\n",
      "    0    0    0    0    0    0    0    0    0    0    0    0    0    0\n",
      "    0    0    0    0    0    0    0    0    0    0    0    0    0    0\n",
      "    0    0    0    0    0    0    0    0    0    0    0    0    0    0\n",
      "    0    0    0    9   48 6520 6990  160   57 5977   39    4 1132    6\n",
      "    1   29]\n"
     ]
    }
   ],
   "source": [
    "print(train_X[0])"
   ]
  },
  {
   "cell_type": "code",
   "execution_count": 15,
   "metadata": {},
   "outputs": [],
   "source": [
    "# labels\n",
    "train_y = train['target'].values"
   ]
  },
  {
   "cell_type": "code",
   "execution_count": 16,
   "metadata": {},
   "outputs": [
    {
     "name": "stdout",
     "output_type": "stream",
     "text": [
      "333\n"
     ]
    }
   ],
   "source": [
    "word_index = tokenizer.word_index\n",
    "print(word_index['play'])\n"
   ]
  },
  {
   "cell_type": "code",
   "execution_count": 17,
   "metadata": {},
   "outputs": [],
   "source": [
    "EMBED_SIZE = 300 \n",
    "# load embedding file: glove\n",
    "def load_glove(word_index):\n",
    "    EMBEDDING_FILE = '../input/embeddings/glove.840B.300d/glove.840B.300d.txt'\n",
    "    def get_coefs(word,*arr): \n",
    "        return word, np.asarray(arr, dtype='float32')[:300]\n",
    "    embeddings_index = dict(get_coefs(*o.split(\" \")) for o in open(EMBEDDING_FILE))\n",
    "\n",
    "    # word_index = tokenizer.word_index\n",
    "    nb_words = min(MAX_WORD_TO_USE, len(word_index))\n",
    "    # some words might in word_index not in embeddings_index, so still need to initialize those words vector\n",
    "    emb_mean,emb_std = 0.0, 1.0\n",
    "    embedding_matrix = np.random.normal(emb_mean, emb_std, (nb_words, EMBED_SIZE))\n",
    "    for word, i in tqdm(word_index.items()):\n",
    "        if i >= MAX_WORD_TO_USE:\n",
    "            continue\n",
    "        embedding_vector = embeddings_index.get(word)\n",
    "        # guarantee the word in word_index is in embeddings_index\n",
    "        # if isn't, don't change the value\n",
    "        if embedding_vector is not None:\n",
    "            embedding_matrix[i] = embedding_vector\n",
    "    return embedding_matrix "
   ]
  },
  {
   "cell_type": "code",
   "execution_count": 18,
   "metadata": {},
   "outputs": [],
   "source": [
    "def load_para(word_index):\n",
    "    EMBEDDING_FILE = '../input/embeddings/paragram_300_sl999/paragram_300_sl999.txt'\n",
    "    def get_coefs(word,*arr): \n",
    "        return word, np.asarray(arr, dtype='float32')\n",
    "    embeddings_index = dict(get_coefs(*o.split(\" \")) for o in open(EMBEDDING_FILE, encoding=\"utf8\", errors='ignore') if len(o)>100)\n",
    "    \n",
    "    # word_index = tokenizer.word_index\n",
    "    nb_words = min(MAX_WORD_TO_USE, len(word_index))\n",
    "    emb_mean,emb_std = 0.0, 1.0\n",
    "    embedding_matrix = np.random.normal(emb_mean, emb_std, (nb_words, EMBED_SIZE))\n",
    "    for word, i in tqdm(word_index.items()):\n",
    "        if i >= MAX_WORD_TO_USE: \n",
    "            continue\n",
    "        embedding_vector = embeddings_index.get(word)\n",
    "        if embedding_vector is not None: \n",
    "            embedding_matrix[i] = embedding_vector\n",
    "    \n",
    "    return embedding_matrix"
   ]
  },
  {
   "cell_type": "code",
   "execution_count": 19,
   "metadata": {},
   "outputs": [
    {
     "name": "stderr",
     "output_type": "stream",
     "text": [
      "100%|██████████| 185823/185823 [00:00<00:00, 492238.20it/s]\n",
      "100%|██████████| 185823/185823 [00:00<00:00, 489323.66it/s]\n"
     ]
    }
   ],
   "source": [
    "glove_embeddings = load_glove(word_index)\n",
    "paragram_embeddings = load_para(word_index)"
   ]
  },
  {
   "cell_type": "code",
   "execution_count": 20,
   "metadata": {},
   "outputs": [],
   "source": [
    "# immerge two embeddings\n",
    "embedding_matrix = np.mean([glove_embeddings, paragram_embeddings], axis=0)\n",
    "embedding_matrix = embedding_matrix.astype('float32')"
   ]
  },
  {
   "cell_type": "code",
   "execution_count": 21,
   "metadata": {},
   "outputs": [
    {
     "name": "stdout",
     "output_type": "stream",
     "text": [
      "(100000, 300)\n"
     ]
    }
   ],
   "source": [
    "print(embedding_matrix.shape)"
   ]
  },
  {
   "cell_type": "code",
   "execution_count": 22,
   "metadata": {},
   "outputs": [],
   "source": [
    "n_splits = 5 # how many folds\n",
    "# StratifiedKFold provides train/test indices to split data in train/test sets for cross-validator.\n",
    "# n_splits means how many train/test sets\n",
    "splits = list(StratifiedKFold(n_splits=n_splits, shuffle=True, random_state=6).split(train_X, train_y))"
   ]
  },
  {
   "cell_type": "code",
   "execution_count": 23,
   "metadata": {},
   "outputs": [],
   "source": [
    "#Resetting the graph\n",
    "tf.reset_default_graph()\n",
    "\n",
    "#Seed the randomness\n",
    "tf.set_random_seed(6)"
   ]
  },
  {
   "cell_type": "code",
   "execution_count": 24,
   "metadata": {},
   "outputs": [],
   "source": [
    "numClasses = 2 # {Sincere,Insincere}\n",
    "#Defining Placeholders\n",
    "input_data = tf.placeholder(tf.int32, [None, MAX_LEN])\n",
    "y_true = tf.placeholder(tf.float32, [None, numClasses])"
   ]
  },
  {
   "cell_type": "code",
   "execution_count": 25,
   "metadata": {},
   "outputs": [],
   "source": [
    "# for dropout layer\n",
    "hold_prob1 = tf.placeholder(tf.float32)"
   ]
  },
  {
   "cell_type": "code",
   "execution_count": 26,
   "metadata": {},
   "outputs": [
    {
     "name": "stdout",
     "output_type": "stream",
     "text": [
      "WARNING:tensorflow:From /opt/conda/lib/python3.6/site-packages/tensorflow/python/ops/embedding_ops.py:132: colocate_with (from tensorflow.python.framework.ops) is deprecated and will be removed in a future version.\n",
      "Instructions for updating:\n",
      "Colocations handled automatically by placer.\n"
     ]
    }
   ],
   "source": [
    "# Creating our Embedding matrix\n",
    "data = tf.nn.embedding_lookup(embedding_matrix,input_data)\n",
    "\n",
    "data = tf.transpose(data, [1, 0, 2])"
   ]
  },
  {
   "cell_type": "code",
   "execution_count": 27,
   "metadata": {},
   "outputs": [
    {
     "name": "stdout",
     "output_type": "stream",
     "text": [
      "\n",
      "WARNING: The TensorFlow contrib module will not be included in TensorFlow 2.0.\n",
      "For more information, please see:\n",
      "  * https://github.com/tensorflow/community/blob/master/rfcs/20180907-contrib-sunset.md\n",
      "  * https://github.com/tensorflow/addons\n",
      "If you depend on functionality not listed there, please file an issue.\n",
      "\n"
     ]
    }
   ],
   "source": [
    "# For single layer LSTM\n",
    "num_units = 256 # Number of nodes in hidden Layer\n",
    "# kernel_initializer: starting value to initialize the weight.\n",
    "LSTM_CELL = tf.contrib.cudnn_rnn.CudnnLSTM(num_layers=1, num_units=num_units, bias_initializer=tf.constant_initializer(0.1), \n",
    "                                           kernel_initializer=tf.contrib.layers.xavier_initializer())"
   ]
  },
  {
   "cell_type": "code",
   "execution_count": 28,
   "metadata": {},
   "outputs": [],
   "source": [
    "value, _ = LSTM_CELL(inputs= data)"
   ]
  },
  {
   "cell_type": "code",
   "execution_count": 29,
   "metadata": {},
   "outputs": [],
   "source": [
    "# Defining weights and biases for 1 st Fully Connected part of NN\n",
    "nodes_on_FC = 64 # Number of nodes on FC layer\n",
    "weight_fc1 = tf.Variable(tf.truncated_normal([num_units, nodes_on_FC]))\n",
    "bias_fc1 = tf.Variable(tf.constant(0.1, shape=[nodes_on_FC]))"
   ]
  },
  {
   "cell_type": "code",
   "execution_count": 30,
   "metadata": {},
   "outputs": [],
   "source": [
    "output = value[-1]"
   ]
  },
  {
   "cell_type": "code",
   "execution_count": 31,
   "metadata": {},
   "outputs": [],
   "source": [
    "epsilon = 1e-4 # For batch normalization\n",
    "# Defining 1st FC layer\n",
    "y_pred_without_BN = tf.matmul(output, weight_fc1) + bias_fc1\n",
    "# tf.nn.moments: calculating batch_mean and batch_variance\n",
    "batch_mean, batch_var = tf.nn.moments(y_pred_without_BN,[0])\n",
    "# Creating parameters for Batch normalization\n",
    "scale = tf.Variable(tf.ones([nodes_on_FC]))\n",
    "beta = tf.Variable(tf.zeros([nodes_on_FC]))\n",
    "#Implementing batch normalization\n",
    "y_pred_without_activation = tf.nn.batch_normalization(y_pred_without_BN,batch_mean,batch_var,beta,scale,epsilon)"
   ]
  },
  {
   "cell_type": "code",
   "execution_count": 32,
   "metadata": {},
   "outputs": [],
   "source": [
    "#Applying RELU\n",
    "y_pred_with_activation = tf.nn.relu(y_pred_without_activation)\n",
    "#Dropout Layer 1\n",
    "y_pred_with_dropout = tf.nn.dropout(y_pred_with_activation,rate=1-hold_prob1)"
   ]
  },
  {
   "cell_type": "code",
   "execution_count": 33,
   "metadata": {},
   "outputs": [],
   "source": [
    "#Defining weights and biases for output layer\n",
    "weight_output_layer = tf.Variable(tf.truncated_normal([nodes_on_FC, numClasses]))\n",
    "bias_output_layer = tf.Variable(tf.constant(0.1, shape=[numClasses]))\n",
    "# Calculating last layer of NN\n",
    "y_pred = tf.matmul(y_pred_with_dropout, weight_output_layer) + bias_output_layer\n",
    "# activation\n",
    "y_pred_softmax = tf.nn.softmax(y_pred)\n"
   ]
  },
  {
   "cell_type": "code",
   "execution_count": 34,
   "metadata": {},
   "outputs": [],
   "source": [
    "# Defining Accuracy\n",
    "# y_true: [None, numClasses]\n",
    "matches = tf.equal(tf.argmax(y_pred,1),tf.argmax(y_true,1))\n",
    "acc = tf.reduce_mean(tf.cast(matches,tf.float32))"
   ]
  },
  {
   "cell_type": "code",
   "execution_count": 35,
   "metadata": {},
   "outputs": [
    {
     "name": "stdout",
     "output_type": "stream",
     "text": [
      "WARNING:tensorflow:From /opt/conda/lib/python3.6/site-packages/tensorflow/python/ops/math_ops.py:3066: to_int32 (from tensorflow.python.ops.math_ops) is deprecated and will be removed in a future version.\n",
      "Instructions for updating:\n",
      "Use tf.cast instead.\n"
     ]
    }
   ],
   "source": [
    "# Defining Loss Function\n",
    "cross_entropy = tf.reduce_mean(tf.nn.softmax_cross_entropy_with_logits_v2(labels=y_true,logits=y_pred))\n",
    "# Defining objective\n",
    "training = tf.train.RMSPropOptimizer(learning_rate=0.001).minimize(cross_entropy)"
   ]
  },
  {
   "cell_type": "code",
   "execution_count": 36,
   "metadata": {},
   "outputs": [
    {
     "name": "stdout",
     "output_type": "stream",
     "text": [
      "Model was built up\n"
     ]
    }
   ],
   "source": [
    "##Initializing trainable/non-trainable variables\n",
    "init = tf.global_variables_initializer()\n",
    "print(\"Model was built up\")"
   ]
  },
  {
   "cell_type": "code",
   "execution_count": 37,
   "metadata": {},
   "outputs": [],
   "source": [
    "#Defining a function for early stopping\n",
    "def early_stopping_check(x):\n",
    "    if np.mean(x[-20:]) <= np.mean(x[-80:]):\n",
    "        return True\n",
    "    else:\n",
    "        return False"
   ]
  },
  {
   "cell_type": "code",
   "execution_count": 38,
   "metadata": {},
   "outputs": [],
   "source": [
    "train_preds = np.zeros((len(train_X),2))\n",
    "test_preds = []\n",
    "#GPU settings\n",
    "config = tf.ConfigProto(allow_soft_placement=True)\n",
    "config.gpu_options.allow_growth = True\n",
    "config.gpu_options.allocator_type = 'BFC'"
   ]
  },
  {
   "cell_type": "code",
   "execution_count": 39,
   "metadata": {},
   "outputs": [
    {
     "name": "stdout",
     "output_type": "stream",
     "text": [
      "Fold 0 has started\n",
      "Training  : Iter = 0, Train Loss = 1.3672481775283813, Train Accuracy = 0.6953125\n",
      "Validation: Iter = 0, CV    Loss = 1.3367371559143066, CV Accuracy = 0.703125\n",
      "Training  : Iter = 0, Train-F1 = 0.07142857142857144\n",
      "Validation: Iter = 0, CV-F1    = 0.13636363636363638\n",
      "-----------------------------\n"
     ]
    },
    {
     "name": "stderr",
     "output_type": "stream",
     "text": [
      "/opt/conda/lib/python3.6/site-packages/sklearn/metrics/classification.py:1143: UndefinedMetricWarning: F-score is ill-defined and being set to 0.0 due to no predicted samples.\n",
      "  'precision', 'predicted', average, warn_for)\n"
     ]
    },
    {
     "name": "stdout",
     "output_type": "stream",
     "text": [
      "Training  : Iter = 1000, Train Loss = 0.10078371316194534, Train Accuracy = 0.953125\n",
      "Validation: Iter = 1000, CV    Loss = 0.141015887260437, CV Accuracy = 0.91796875\n",
      "Training  : Iter = 1000, Train-F1 = 0.6666666666666667\n",
      "Validation: Iter = 1000, CV-F1    = 0.43243243243243246\n",
      "-----------------------------\n",
      "Training  : Iter = 2000, Train Loss = 0.07479945570230484, Train Accuracy = 0.96875\n",
      "Validation: Iter = 2000, CV    Loss = 0.13169264793395996, CV Accuracy = 0.953125\n",
      "Training  : Iter = 2000, Train-F1 = 0.6923076923076924\n",
      "Validation: Iter = 2000, CV-F1    = 0.4545454545454545\n",
      "-----------------------------\n",
      "Training  : Iter = 3000, Train Loss = 0.10452912002801895, Train Accuracy = 0.953125\n",
      "Validation: Iter = 3000, CV    Loss = 0.10948401689529419, CV Accuracy = 0.94140625\n",
      "Training  : Iter = 3000, Train-F1 = 0.4\n",
      "Validation: Iter = 3000, CV-F1    = 0.2105263157894737\n",
      "-----------------------------\n",
      "Training  : Iter = 4000, Train Loss = 0.09429159760475159, Train Accuracy = 0.96875\n",
      "Validation: Iter = 4000, CV    Loss = 0.1339210718870163, CV Accuracy = 0.94140625\n",
      "Training  : Iter = 4000, Train-F1 = 0.7647058823529413\n",
      "Validation: Iter = 4000, CV-F1    = 0.48275862068965514\n",
      "-----------------------------\n",
      "Training 0 has finished\n",
      "Fold 1 has started\n",
      "Training  : Iter = 0, Train Loss = 1.3716554641723633, Train Accuracy = 0.6953125\n",
      "Validation: Iter = 0, CV    Loss = 1.3411893844604492, CV Accuracy = 0.71875\n",
      "Training  : Iter = 0, Train-F1 = 0.0930232558139535\n",
      "Validation: Iter = 0, CV-F1    = 0.07692307692307691\n",
      "-----------------------------\n",
      "Training  : Iter = 1000, Train Loss = 0.07853559404611588, Train Accuracy = 0.97265625\n",
      "Validation: Iter = 1000, CV    Loss = 0.1480558067560196, CV Accuracy = 0.9375\n",
      "Training  : Iter = 1000, Train-F1 = 0.7586206896551724\n",
      "Validation: Iter = 1000, CV-F1    = 0.5\n",
      "-----------------------------\n",
      "Training  : Iter = 2000, Train Loss = 0.10094824433326721, Train Accuracy = 0.95703125\n",
      "Validation: Iter = 2000, CV    Loss = 0.17968787252902985, CV Accuracy = 0.9375\n",
      "Training  : Iter = 2000, Train-F1 = 0.56\n",
      "Validation: Iter = 2000, CV-F1    = 0.5294117647058824\n",
      "-----------------------------\n",
      "Training  : Iter = 3000, Train Loss = 0.11298241466283798, Train Accuracy = 0.94921875\n",
      "Validation: Iter = 3000, CV    Loss = 0.10451123863458633, CV Accuracy = 0.9609375\n",
      "Training  : Iter = 3000, Train-F1 = 0.6829268292682927\n",
      "Validation: Iter = 3000, CV-F1    = 0.7727272727272727\n",
      "-----------------------------\n",
      "Training  : Iter = 4000, Train Loss = 0.07759357988834381, Train Accuracy = 0.98046875\n",
      "Validation: Iter = 4000, CV    Loss = 0.1051449179649353, CV Accuracy = 0.94921875\n",
      "Training  : Iter = 4000, Train-F1 = 0.8\n",
      "Validation: Iter = 4000, CV-F1    = 0.5185185185185185\n",
      "-----------------------------\n",
      "Training 1 has finished\n",
      "Fold 2 has started\n",
      "Training  : Iter = 0, Train Loss = 1.5755276679992676, Train Accuracy = 0.68359375\n",
      "Validation: Iter = 0, CV    Loss = 1.5375181436538696, CV Accuracy = 0.68359375\n",
      "Training  : Iter = 0, Train-F1 = 0.12903225806451613\n",
      "Validation: Iter = 0, CV-F1    = 0.06896551724137932\n",
      "-----------------------------\n",
      "Training  : Iter = 1000, Train Loss = 0.10999926924705505, Train Accuracy = 0.96875\n",
      "Validation: Iter = 1000, CV    Loss = 0.07211348414421082, CV Accuracy = 0.96484375\n",
      "Training  : Iter = 1000, Train-F1 = 0.7142857142857143\n",
      "Validation: Iter = 1000, CV-F1    = 0.47058823529411764\n",
      "-----------------------------\n",
      "Training  : Iter = 2000, Train Loss = 0.09930113703012466, Train Accuracy = 0.953125\n",
      "Validation: Iter = 2000, CV    Loss = 0.11835760623216629, CV Accuracy = 0.94140625\n",
      "Training  : Iter = 2000, Train-F1 = 0.4999999999999999\n",
      "Validation: Iter = 2000, CV-F1    = 0.4444444444444445\n",
      "-----------------------------\n",
      "Training  : Iter = 3000, Train Loss = 0.12717115879058838, Train Accuracy = 0.9296875\n",
      "Validation: Iter = 3000, CV    Loss = 0.09584831446409225, CV Accuracy = 0.95703125\n",
      "Training  : Iter = 3000, Train-F1 = 0.55\n",
      "Validation: Iter = 3000, CV-F1    = 0.6206896551724139\n",
      "-----------------------------\n",
      "Training  : Iter = 4000, Train Loss = 0.08054874837398529, Train Accuracy = 0.9609375\n",
      "Validation: Iter = 4000, CV    Loss = 0.16023969650268555, CV Accuracy = 0.9375\n",
      "Training  : Iter = 4000, Train-F1 = 0.6153846153846154\n",
      "Validation: Iter = 4000, CV-F1    = 0.5\n",
      "-----------------------------\n",
      "Training 2 has finished\n",
      "Fold 3 has started\n",
      "Training  : Iter = 0, Train Loss = 1.5426510572433472, Train Accuracy = 0.70703125\n",
      "Validation: Iter = 0, CV    Loss = 1.232430338859558, CV Accuracy = 0.71484375\n",
      "Training  : Iter = 0, Train-F1 = 0.0963855421686747\n",
      "Validation: Iter = 0, CV-F1    = 0.0759493670886076\n",
      "-----------------------------\n",
      "Training  : Iter = 1000, Train Loss = 0.07759832590818405, Train Accuracy = 0.9609375\n",
      "Validation: Iter = 1000, CV    Loss = 0.12804532051086426, CV Accuracy = 0.9609375\n",
      "Training  : Iter = 1000, Train-F1 = 0.5\n",
      "Validation: Iter = 1000, CV-F1    = 0.5833333333333334\n",
      "-----------------------------\n",
      "Training  : Iter = 2000, Train Loss = 0.10003276914358139, Train Accuracy = 0.95703125\n",
      "Validation: Iter = 2000, CV    Loss = 0.13655346632003784, CV Accuracy = 0.94140625\n",
      "Training  : Iter = 2000, Train-F1 = 0.6451612903225806\n",
      "Validation: Iter = 2000, CV-F1    = 0.5161290322580646\n",
      "-----------------------------\n",
      "Training  : Iter = 3000, Train Loss = 0.09730212390422821, Train Accuracy = 0.953125\n",
      "Validation: Iter = 3000, CV    Loss = 0.1370258778333664, CV Accuracy = 0.9453125\n",
      "Training  : Iter = 3000, Train-F1 = 0.5384615384615385\n",
      "Validation: Iter = 3000, CV-F1    = 0.5625000000000001\n",
      "-----------------------------\n",
      "Training  : Iter = 4000, Train Loss = 0.08116079121828079, Train Accuracy = 0.9609375\n",
      "Validation: Iter = 4000, CV    Loss = 0.09453149884939194, CV Accuracy = 0.9609375\n",
      "Training  : Iter = 4000, Train-F1 = 0.7222222222222223\n",
      "Validation: Iter = 4000, CV-F1    = 0.5833333333333334\n",
      "-----------------------------\n",
      "Training 3 has finished\n",
      "Fold 4 has started\n",
      "Training  : Iter = 0, Train Loss = 1.350669026374817, Train Accuracy = 0.7109375\n",
      "Validation: Iter = 0, CV    Loss = 1.4491581916809082, CV Accuracy = 0.703125\n",
      "Training  : Iter = 0, Train-F1 = 0.02631578947368421\n",
      "Validation: Iter = 0, CV-F1    = 0.11627906976744186\n",
      "-----------------------------\n",
      "Training  : Iter = 1000, Train Loss = 0.13517096638679504, Train Accuracy = 0.94921875\n",
      "Validation: Iter = 1000, CV    Loss = 0.1662670373916626, CV Accuracy = 0.921875\n",
      "Training  : Iter = 1000, Train-F1 = 0.48\n",
      "Validation: Iter = 1000, CV-F1    = 0.37499999999999994\n",
      "-----------------------------\n",
      "Training  : Iter = 2000, Train Loss = 0.06726536154747009, Train Accuracy = 0.96875\n",
      "Validation: Iter = 2000, CV    Loss = 0.10880918800830841, CV Accuracy = 0.95703125\n",
      "Training  : Iter = 2000, Train-F1 = 0.42857142857142855\n",
      "Validation: Iter = 2000, CV-F1    = 0.26666666666666666\n",
      "-----------------------------\n",
      "Training  : Iter = 3000, Train Loss = 0.10649096965789795, Train Accuracy = 0.953125\n",
      "Validation: Iter = 3000, CV    Loss = 0.1570759266614914, CV Accuracy = 0.94140625\n",
      "Training  : Iter = 3000, Train-F1 = 0.6666666666666665\n",
      "Validation: Iter = 3000, CV-F1    = 0.5454545454545455\n",
      "-----------------------------\n",
      "Training  : Iter = 4000, Train Loss = 0.07994695007801056, Train Accuracy = 0.97265625\n",
      "Validation: Iter = 4000, CV    Loss = 0.10009123384952545, CV Accuracy = 0.96875\n",
      "Training  : Iter = 4000, Train-F1 = 0.6956521739130435\n",
      "Validation: Iter = 4000, CV-F1    = 0.75\n",
      "-----------------------------\n",
      "Training 4 has finished\n"
     ]
    }
   ],
   "source": [
    "iterations = 5000 # How many iterations to train\n",
    "batchSize = 256 # how many samples to feed neural network\n",
    "# Opening up Session\n",
    "for j, (train_idx, valid_idx) in enumerate(splits): \n",
    "    print( \"Fold {} has started\".format(j) )\n",
    "    with tf.Session(config=config) as sess:\n",
    "        #Running init\n",
    "        sess.run(init) \n",
    "        #Creating a list for Early Stopping\n",
    "        val_scores_loss= []\n",
    "        val_scores_f1= []\n",
    "        #Main loop\n",
    "        for i in range(iterations):\n",
    "            random_numbers = np.random.choice(train_idx,batchSize)\n",
    "            #  pd.get_dummies: one hot encode\n",
    "            _,c = sess.run([training,cross_entropy] ,feed_dict = {input_data: train_X[random_numbers], y_true: pd.get_dummies(train_y[random_numbers]).values, \n",
    "                                                                  hold_prob1: 0.6} )\n",
    "            # Validating Loop\n",
    "            if i % 50 == 0:\n",
    "                random_numbers_cv = np.random.choice(valid_idx,batchSize)\n",
    "                \n",
    "                # Getting train stats.\n",
    "                acc_tr,loss_tr,prob_tr = sess.run([acc,cross_entropy,y_pred],feed_dict={input_data:train_X[random_numbers],y_true:pd.get_dummies(train_y[random_numbers]).values, hold_prob1:1.0 })\n",
    "                # Train F1\n",
    "                pred_tr = prob_tr.argmax(axis=1)\n",
    "                # f1_score: 2*precision*recall/(precision+recall)\n",
    "                f1_tr = f1_score(train_y[random_numbers],pred_tr)\n",
    "                                \n",
    "                # Getting validation stats.\n",
    "                acc_cv,loss_cv,prob_cv = sess.run([acc,cross_entropy,y_pred],feed_dict = {input_data:train_X[random_numbers_cv],y_true:pd.get_dummies(train_y[random_numbers_cv]).values,hold_prob1:1.0})\n",
    "                \n",
    "                pred_cv = prob_cv.argmax(axis=1)\n",
    "                 \n",
    "                f1_cv = f1_score(train_y[random_numbers_cv],pred_cv)\n",
    "\n",
    "                #Appending loss_cv to val_scores:\n",
    "                val_scores_loss.append(loss_cv)\n",
    "                val_scores_f1.append(f1_cv)\n",
    "                \n",
    "                #Printing on each 1000 iterations\n",
    "                if i%1000 ==0:\n",
    "                    print(\"Training  : Iter = {}, Train Loss = {}, Train Accuracy = {}\".format(i,loss_tr,acc_tr))\n",
    "                    print(\"Validation: Iter = {}, CV    Loss = {}, CV Accuracy = {}\".format(i,loss_cv,acc_cv))\n",
    "                    \n",
    "                    print(\"Training  : Iter = {}, Train-F1 = {}\".format(i,f1_tr))\n",
    "                    print(\"Validation: Iter = {}, CV-F1    = {}\".format(i,f1_cv))\n",
    "                    print(\"-----------------------------\")\n",
    "\n",
    "                    #If validation loss didn't decrease for val_loop_iter * 20 iters, stop.\n",
    "                    \"\"\"if early_stopping_check(val_scores_loss) == False:\n",
    "                        saver.save(sess, os.path.join(os.getcwd(),\"1_layered_GRU.ckpt\"),global_step=i)\n",
    "                        continue\"\"\"\n",
    "                if (np.mean(val_scores_f1[-5:]) > 0.7000) & ( np.mean(val_scores_loss[-5:]) <0.0800 ):\n",
    "                    print(\"Early Finishing\")\n",
    "                    print( val_scores_f1[-5:] )\n",
    "                    print( val_scores_loss[-5:] )\n",
    "                    break\n",
    "        # Training_validation predictions        \n",
    "        for r in range(0,len(valid_idx),batchSize):\n",
    "            index_train = valid_idx[r:r + batchSize]\n",
    "            train_preds[index_train,:] = y_pred_softmax.eval(feed_dict={input_data:train_X[index_train],hold_prob1:1.0},session=sess)\n",
    "\n",
    "        # Test predictions        \n",
    "        test_fold = []\n",
    "        for r in range(0,len(test_X),batchSize):\n",
    "            k = y_pred_softmax.eval(feed_dict={input_data:test_X[r:r+batchSize],hold_prob1:1.0},session=sess)\n",
    "            test_fold.append(k)\n",
    "            del k\n",
    "        test_preds.append(test_fold)\n",
    "        print(\"Training {} has finished\".format(j))\n"
   ]
  },
  {
   "cell_type": "code",
   "execution_count": 40,
   "metadata": {},
   "outputs": [
    {
     "name": "stdout",
     "output_type": "stream",
     "text": [
      "(1306122, 2)\n",
      "(1306122,)\n"
     ]
    }
   ],
   "source": [
    "print(train_preds.shape)\n",
    "train_preds_0_values = train_preds[:, 0]\n",
    "print(train_preds_0_values.shape)"
   ]
  },
  {
   "cell_type": "code",
   "execution_count": 41,
   "metadata": {},
   "outputs": [
    {
     "name": "stdout",
     "output_type": "stream",
     "text": [
      "[[0.93453211 0.06546786]]\n"
     ]
    }
   ],
   "source": [
    "print(train_preds[:1])"
   ]
  },
  {
   "cell_type": "code",
   "execution_count": 42,
   "metadata": {},
   "outputs": [],
   "source": [
    "def bestThresshold(y_train,train_preds2):\n",
    "    tmp = [0,0,0] # delta value, current f1_score, max f1_score\n",
    "    delta = 0\n",
    "    for tmp[0] in tqdm(np.arange(0.1, 0.801, 0.01)):\n",
    "        tmp[1] = f1_score(y_train, (np.array(train_preds2)<=tmp[0]).astype(int))\n",
    "        if tmp[1] > tmp[2]:\n",
    "            delta = tmp[0]\n",
    "            tmp[2] = tmp[1]\n",
    "    print('best threshold is {:.4f} with F1 score: {:.4f}'.format(delta, tmp[2]))\n",
    "    return delta"
   ]
  },
  {
   "cell_type": "code",
   "execution_count": 43,
   "metadata": {},
   "outputs": [
    {
     "name": "stderr",
     "output_type": "stream",
     "text": [
      "100%|██████████| 71/71 [00:16<00:00,  4.37it/s]"
     ]
    },
    {
     "name": "stdout",
     "output_type": "stream",
     "text": [
      "best threshold is 0.6700 with F1 score: 0.6509\n"
     ]
    },
    {
     "name": "stderr",
     "output_type": "stream",
     "text": [
      "\n"
     ]
    }
   ],
   "source": [
    "delta = bestThresshold(train_y,train_preds_0_values)"
   ]
  },
  {
   "cell_type": "code",
   "execution_count": 44,
   "metadata": {},
   "outputs": [
    {
     "name": "stdout",
     "output_type": "stream",
     "text": [
      "[0.18328877 0.81671125]\n"
     ]
    }
   ],
   "source": [
    "print(((test_preds[0])[0])[0])"
   ]
  },
  {
   "cell_type": "code",
   "execution_count": 45,
   "metadata": {},
   "outputs": [],
   "source": [
    "our_preds_test = []\n",
    "for i in test_preds:\n",
    "    l = np.zeros((0,2))\n",
    "    for j in i:\n",
    "        l = np.append(l,j,axis=0)\n",
    "    our_preds_test.append(l)"
   ]
  },
  {
   "cell_type": "code",
   "execution_count": 46,
   "metadata": {},
   "outputs": [],
   "source": [
    "test_predictions = our_preds_test[0] + our_preds_test[1] + our_preds_test[2] + our_preds_test[3] + our_preds_test[4]\n",
    "test_predictions = test_predictions / 5\n",
    "test_predictions = test_predictions[:,0]"
   ]
  },
  {
   "cell_type": "code",
   "execution_count": 47,
   "metadata": {},
   "outputs": [],
   "source": [
    "submission1 = test[['qid']].copy()\n",
    "submission1['prediction'] = (test_predictions <= delta).astype(int)"
   ]
  },
  {
   "cell_type": "code",
   "execution_count": 48,
   "metadata": {},
   "outputs": [
    {
     "name": "stdout",
     "output_type": "stream",
     "text": [
      "[1 0 0 0 0 0]\n"
     ]
    }
   ],
   "source": [
    "print(submission1['prediction'].values[:6])"
   ]
  },
  {
   "cell_type": "code",
   "execution_count": 49,
   "metadata": {},
   "outputs": [],
   "source": [
    "submission1.to_csv('submission.csv', index=False)"
   ]
  },
  {
   "cell_type": "code",
   "execution_count": 50,
   "metadata": {},
   "outputs": [],
   "source": []
  }
 ],
 "metadata": {
  "kernelspec": {
   "display_name": "Python 3",
   "language": "python",
   "name": "python3"
  },
  "language_info": {
   "codemirror_mode": {
    "name": "ipython",
    "version": 3
   },
   "file_extension": ".py",
   "mimetype": "text/x-python",
   "name": "python",
   "nbconvert_exporter": "python",
   "pygments_lexer": "ipython3",
   "version": "3.6.4"
  }
 },
 "nbformat": 4,
 "nbformat_minor": 1
}
