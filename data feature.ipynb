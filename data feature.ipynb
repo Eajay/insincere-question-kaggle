{
 "cells": [
  {
   "cell_type": "code",
   "execution_count": 1,
   "metadata": {},
   "outputs": [],
   "source": [
    "import pandas as pd\n",
    "# tqdm means \"progress\" in Arabic\n",
    "from tqdm import tqdm\n",
    "import os\n",
    "from gensim.models import KeyedVectors\n",
    "import operator\n",
    "tqdm.pandas()\n",
    "\n",
    "def load_data(datapath):\n",
    "    print(\"loading data\")\n",
    "    df_train = pd.read_csv(os.path.join(datapath, \"train.csv\"))\n",
    "    df_test = pd.read_csv(os.path.join(datapath, \"test.csv\"))\n",
    "    print(\"train data with shape: \", df_train.shape)\n",
    "    print(\"test data with shape: \", df_test.shape)\n",
    "    print(\"train data tags: \", df_train.columns.values)\n",
    "    print(\"example in train data: \\n\", df_train.iloc[0:1, :])\n",
    "    print(\"test data tags: \", df_test.columns.values)\n",
    "    print(\"example in test data: \\n\", df_test.iloc[0:1, :])\n",
    "    return df_train, df_test"
   ]
  },
  {
   "cell_type": "code",
   "execution_count": 2,
   "metadata": {},
   "outputs": [],
   "source": [
    "def add_features(df):\n",
    "    df['num_words'] = df.question_text.str.count('\\S+')\n",
    "    df['num_unique_words'] = df['question_text'].progress_apply(lambda comment: len(set(w for w in comment.split())))\n",
    "    df['words_vs_unique'] = df['num_unique_words'] / df['num_words']  \n",
    "    return df"
   ]
  },
  {
   "cell_type": "code",
   "execution_count": 3,
   "metadata": {},
   "outputs": [
    {
     "name": "stdout",
     "output_type": "stream",
     "text": [
      "loading data\n",
      "train data with shape:  (1306122, 3)\n",
      "test data with shape:  (375806, 2)\n",
      "train data tags:  ['qid' 'question_text' 'target']\n",
      "example in train data: \n",
      "                     qid                                      question_text  \\\n",
      "0  00002165364db923c7e6  How did Quebec nationalists see their province...   \n",
      "\n",
      "   target  \n",
      "0       0  \n",
      "test data tags:  ['qid' 'question_text']\n",
      "example in test data: \n",
      "                     qid                                      question_text\n",
      "0  0000163e3ea7c7a74cd7  Why do so many women become so rude and arroga...\n"
     ]
    }
   ],
   "source": [
    "DATA_PATH = './data/'\n",
    "train, test = load_data(DATA_PATH)"
   ]
  },
  {
   "cell_type": "code",
   "execution_count": 4,
   "metadata": {},
   "outputs": [
    {
     "name": "stderr",
     "output_type": "stream",
     "text": [
      "100%|████████████████████████████████████| 1306122/1306122 [00:06<00:00, 206701.81it/s]\n"
     ]
    }
   ],
   "source": [
    "train = add_features(train)"
   ]
  },
  {
   "cell_type": "code",
   "execution_count": 5,
   "metadata": {},
   "outputs": [
    {
     "name": "stdout",
     "output_type": "stream",
     "text": [
      "['00002165364db923c7e6'\n",
      " 'How did Quebec nationalists see their province as a nation in the 1960s?'\n",
      " 0 13 13 1.0]\n"
     ]
    }
   ],
   "source": [
    "print(train.values[0])"
   ]
  },
  {
   "cell_type": "code",
   "execution_count": 6,
   "metadata": {},
   "outputs": [
    {
     "name": "stdout",
     "output_type": "stream",
     "text": [
      "Average sentence lenth:  12.803609463740754\n"
     ]
    }
   ],
   "source": [
    "print(\"Average sentence lenth: \", train['num_words'].mean())"
   ]
  },
  {
   "cell_type": "code",
   "execution_count": 9,
   "metadata": {},
   "outputs": [
    {
     "name": "stdout",
     "output_type": "stream",
     "text": [
      "Average sentence lenth std:  7.0524370307266135\n"
     ]
    }
   ],
   "source": [
    "print(\"Sentence lenth std: \", train['num_words'].std())"
   ]
  },
  {
   "cell_type": "code",
   "execution_count": 8,
   "metadata": {},
   "outputs": [
    {
     "name": "stdout",
     "output_type": "stream",
     "text": [
      "Average sentence unique word rate:  0.9666686981952225\n"
     ]
    }
   ],
   "source": [
    "print(\"Average sentence unique word rate: \", train['words_vs_unique'].mean())"
   ]
  },
  {
   "cell_type": "code",
   "execution_count": 10,
   "metadata": {},
   "outputs": [
    {
     "name": "stdout",
     "output_type": "stream",
     "text": [
      "Longest sentence lenth:  134\n",
      "Least sentence lenth:  1\n"
     ]
    }
   ],
   "source": [
    "print(\"Longest sentence lenth: \", train['num_words'].max())\n",
    "print(\"Least sentence lenth: \", train['num_words'].min())"
   ]
  },
  {
   "cell_type": "code",
   "execution_count": 21,
   "metadata": {},
   "outputs": [
    {
     "name": "stdout",
     "output_type": "stream",
     "text": [
      "AxesSubplot(0.125,0.125;0.775x0.755)\n"
     ]
    },
    {
     "data": {
      "image/png": "[encoded data removed]",
      "text/plain": [
       "<matplotlib.figure.Figure at 0x20a0d2020b8>"
      ]
     },
     "metadata": {},
     "output_type": "display_data"
    }
   ],
   "source": [
    "import matplotlib.pyplot as plt\n",
    "train_his = train[\"target\"]\n",
    "a = train_his.hist()"
   ]
  },
  {
   "cell_type": "code",
   "execution_count": 31,
   "metadata": {},
   "outputs": [
    {
     "name": "stdout",
     "output_type": "stream",
     "text": [
      "80810    sentences' targets are 1\n",
      "1225312  sentences' targets are 0\n"
     ]
    }
   ],
   "source": [
    "# targets values number\n",
    "print(sum(train[\"target\"].values), \"   sentences' targets are 1\")\n",
    "print(train[\"target\"].shape[0]-sum(train[\"target\"].values), \" sentences' targets are 0\")"
   ]
  },
  {
   "cell_type": "code",
   "execution_count": null,
   "metadata": {},
   "outputs": [],
   "source": []
  }
 ],
 "metadata": {
  "kernelspec": {
   "display_name": "Python 3",
   "language": "python",
   "name": "python3"
  },
  "language_info": {
   "codemirror_mode": {
    "name": "ipython",
    "version": 3
   },
   "file_extension": ".py",
   "mimetype": "text/x-python",
   "name": "python",
   "nbconvert_exporter": "python",
   "pygments_lexer": "ipython3",
   "version": "3.6.4"
  }
 },
 "nbformat": 4,
 "nbformat_minor": 2
}
