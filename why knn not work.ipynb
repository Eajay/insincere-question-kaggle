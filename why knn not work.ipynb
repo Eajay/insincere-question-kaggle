{
 "cells": [
  {
   "cell_type": "code",
   "execution_count": 72,
   "metadata": {},
   "outputs": [],
   "source": [
    "import pandas as pd\n",
    "# tqdm means \"progress\" in Arabic\n",
    "from tqdm import tqdm\n",
    "import os\n",
    "from gensim.models import KeyedVectors\n",
    "import operator\n",
    "tqdm.pandas()\n",
    "\n",
    "def load_data(datapath):\n",
    "    print(\"loading data\")\n",
    "    df_train = pd.read_csv(os.path.join(datapath, \"train.csv\"))\n",
    "    df_test = pd.read_csv(os.path.join(datapath, \"test.csv\"))\n",
    "    print(\"train data with shape: \", df_train.shape)\n",
    "    print(\"test data with shape: \", df_test.shape)\n",
    "    print(\"train data tags: \", df_train.columns.values)\n",
    "    print(\"example in train data: \\n\", df_train.iloc[0:1, :])\n",
    "    print(\"test data tags: \", df_test.columns.values)\n",
    "    print(\"example in test data: \\n\", df_test.iloc[0:1, :])\n",
    "    return df_train, df_test"
   ]
  },
  {
   "cell_type": "code",
   "execution_count": 73,
   "metadata": {},
   "outputs": [
    {
     "name": "stdout",
     "output_type": "stream",
     "text": [
      "loading data\n",
      "train data with shape:  (1306122, 3)\n",
      "test data with shape:  (375806, 2)\n",
      "train data tags:  ['qid' 'question_text' 'target']\n",
      "example in train data: \n",
      "                     qid                                      question_text  \\\n",
      "0  00002165364db923c7e6  How did Quebec nationalists see their province...   \n",
      "\n",
      "   target  \n",
      "0       0  \n",
      "test data tags:  ['qid' 'question_text']\n",
      "example in test data: \n",
      "                     qid                                      question_text\n",
      "0  0000163e3ea7c7a74cd7  Why do so many women become so rude and arroga...\n"
     ]
    }
   ],
   "source": [
    "DATA_PATH = './data/'\n",
    "train, test = load_data(DATA_PATH)"
   ]
  },
  {
   "cell_type": "code",
   "execution_count": 74,
   "metadata": {},
   "outputs": [
    {
     "name": "stdout",
     "output_type": "stream",
     "text": [
      "(1306122, 3)\n"
     ]
    }
   ],
   "source": [
    "print(train.shape)"
   ]
  },
  {
   "cell_type": "code",
   "execution_count": 75,
   "metadata": {},
   "outputs": [
    {
     "name": "stdout",
     "output_type": "stream",
     "text": [
      "['00002165364db923c7e6'\n",
      " 'How did Quebec nationalists see their province as a nation in the 1960s?'\n",
      " 0]\n"
     ]
    }
   ],
   "source": [
    "print(train.values[0])"
   ]
  },
  {
   "cell_type": "code",
   "execution_count": 76,
   "metadata": {},
   "outputs": [
    {
     "name": "stdout",
     "output_type": "stream",
     "text": [
      "(1306123, 3)\n"
     ]
    }
   ],
   "source": [
    "new_line = {'qid': '00000', 'question_text': \"How you doing?\", 'target': 0}\n",
    "train = train.append(new_line,ignore_index=True)\n",
    "print(train.shape)"
   ]
  },
  {
   "cell_type": "code",
   "execution_count": 84,
   "metadata": {},
   "outputs": [],
   "source": [
    "from sklearn.feature_extraction.text import CountVectorizer\n",
    "x_train = train[\"question_text\"]\n",
    "y_train = train[\"target\"]\n",
    "x_test = test[\"question_text\"]\n",
    "cv= CountVectorizer()\n",
    "x_train = cv.fit_transform(x_train)\n",
    "x_test = cv.transform(x_test)"
   ]
  },
  {
   "cell_type": "code",
   "execution_count": 85,
   "metadata": {},
   "outputs": [
    {
     "name": "stdout",
     "output_type": "stream",
     "text": [
      "How you doing?\n"
     ]
    }
   ],
   "source": [
    "print(train[\"question_text\"].values[-1])"
   ]
  },
  {
   "cell_type": "code",
   "execution_count": 86,
   "metadata": {},
   "outputs": [],
   "source": [
    "x_train = x_train[-1000:]\n",
    "x_test = x_test[:100]"
   ]
  },
  {
   "cell_type": "code",
   "execution_count": 87,
   "metadata": {},
   "outputs": [
    {
     "name": "stdout",
     "output_type": "stream",
     "text": [
      "(1000, 195000)\n"
     ]
    }
   ],
   "source": [
    "x_train = x_train.toarray()\n",
    "print(x_train.shape)"
   ]
  },
  {
   "cell_type": "code",
   "execution_count": 88,
   "metadata": {},
   "outputs": [
    {
     "name": "stdout",
     "output_type": "stream",
     "text": [
      "<class 'numpy.ndarray'>\n"
     ]
    }
   ],
   "source": [
    "print(type(x_train))"
   ]
  },
  {
   "cell_type": "code",
   "execution_count": 89,
   "metadata": {},
   "outputs": [
    {
     "name": "stdout",
     "output_type": "stream",
     "text": [
      "(100, 195000)\n"
     ]
    }
   ],
   "source": [
    "x_test = x_test.toarray()\n",
    "print(x_test.shape)"
   ]
  },
  {
   "cell_type": "code",
   "execution_count": 92,
   "metadata": {},
   "outputs": [],
   "source": [
    "nearest_nums = []\n",
    "for test_data in x_test:\n",
    "    dist = np.sqrt(np.sum(np.square(test_data - x_train), axis=1))\n",
    "    nearest_nums.append(np.argsort(dist))\n"
   ]
  },
  {
   "cell_type": "code",
   "execution_count": 94,
   "metadata": {},
   "outputs": [
    {
     "name": "stdout",
     "output_type": "stream",
     "text": [
      "100\n"
     ]
    }
   ],
   "source": [
    "print(len(nearest_nums))"
   ]
  },
  {
   "cell_type": "code",
   "execution_count": 95,
   "metadata": {},
   "outputs": [
    {
     "name": "stdout",
     "output_type": "stream",
     "text": [
      "55\n"
     ]
    }
   ],
   "source": [
    "# how many sentences have 999 in their 30 nearest neighbors\n",
    "count = 0\n",
    "for neighbors in nearest_nums:\n",
    "    if 999 in neighbors[:30]:\n",
    "        count += 1\n",
    "print(count)"
   ]
  },
  {
   "cell_type": "code",
   "execution_count": 102,
   "metadata": {},
   "outputs": [
    {
     "name": "stdout",
     "output_type": "stream",
     "text": [
      "46.11\n"
     ]
    }
   ],
   "source": [
    "# 999 average position in neighbors\n",
    "pos = []\n",
    "for neighbors in nearest_nums:\n",
    "    neighbors = neighbors.tolist()\n",
    "    pos.append(neighbors.index(999))\n",
    "print(sum(pos)/len(pos))"
   ]
  },
  {
   "cell_type": "code",
   "execution_count": null,
   "metadata": {},
   "outputs": [],
   "source": []
  }
 ],
 "metadata": {
  "kernelspec": {
   "display_name": "Python 3",
   "language": "python",
   "name": "python3"
  },
  "language_info": {
   "codemirror_mode": {
    "name": "ipython",
    "version": 3
   },
   "file_extension": ".py",
   "mimetype": "text/x-python",
   "name": "python",
   "nbconvert_exporter": "python",
   "pygments_lexer": "ipython3",
   "version": "3.6.4"
  }
 },
 "nbformat": 4,
 "nbformat_minor": 2
}
